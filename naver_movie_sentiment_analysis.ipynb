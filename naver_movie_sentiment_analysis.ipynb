{
    "cells": [
        {
            "cell_type": "markdown",
            "metadata": {},
            "source": "\n"
        },
        {
            "cell_type": "code",
            "execution_count": null,
            "metadata": {},
            "outputs": [],
            "source": [
                "knitr::opts_chunk$set(echo = TRUE,message=FALSE, warning=FALSE)\n",
                "\n"
            ]
        },
        {
            "cell_type": "markdown",
            "metadata": {},
            "source": [
                "\n",
                "\n"
            ]
        },
        {
            "cell_type": "code",
            "execution_count": null,
            "metadata": {},
            "outputs": [],
            "source": [
                "# load in the libraries we'll need\n",
                "library(tidyverse)\n",
                "library(tidytext)\n",
                "library(stringr)\n",
                "library(wordcloud2)\n",
                "library(XML) \n",
                "library(N2H4)\n",
                "library(KoNLP)\n",
                "library(gridExtra)\n"
            ]
        },
        {
            "cell_type": "markdown",
            "metadata": {},
            "source": [
                "## <eb>��<ec>���<84> <ec>��<ed>�� <ed>��<ec>��<ed>�� 마이<eb>�� �<8f> 감성분석 (<ec>��바웃 <ed><83>�<ec>��, <ec>��쿠아�<a8>, <ec>��<eb>��<ec>��Z, <ec>��<ec>��<ec>��)\n",
                "\n",
                "### Data set\n"
            ]
        },
        {
            "cell_type": "code",
            "execution_count": null,
            "metadata": {},
            "outputs": [],
            "source": [
                "at_reviews <- NULL\n",
                "aq_reviews <- NULL\n",
                "ww_reviews <- NULL\n",
                "ic_reviews <- NULL\n",
                "\n",
                "about_time <- \"https://movie.naver.com/movie/bi/mi/pointWriteFormList.nhn?code=92075&type=after&onlyActualPointYn=N&order=newest&page=\"\n",
                "\n",
                "aqua_man <- \"https://movie.naver.com/movie/bi/mi/pointWriteFormList.nhn?code=151153&type=after&onlyActualPointYn=N&order=newest&page=\"\n",
                "\n",
                "world_war_z <- \"https://movie.naver.com/movie/bi/mi/pointWriteFormList.nhn?code=51777&type=after&onlyActualPointYn=N&order=newest&page=\"\n",
                "\n",
                "inception <- \"https://movie.naver.com/movie/bi/mi/pointWriteFormList.nhn?code=52515&type=after&onlyActualPointYn=N&order=newest&page=\"\n"
            ]
        },
        {
            "cell_type": "markdown",
            "metadata": {},
            "source": "\n"
        },
        {
            "cell_type": "code",
            "execution_count": null,
            "metadata": {},
            "outputs": [],
            "source": [
                "# about time review crawling\n",
                "for (i in 1:240) { \n",
                "  newr <- NULL\n",
                "  url <- paste(about_time, i, sep='')\n",
                "  txt <- readLines(url, encoding=\"UTF-8\")\n",
                "  \n",
                "  # <ec>��<ed>�� 리뷰 부분만 가<ec>��<ec>���<b0>\n",
                "  reviews <- txt[which(str_detect(txt, \"id=\\\"_filtered_ment\"))+4] \n",
                "  # <ed>��<ec>��문자 <ec>���<b0>\n",
                "  reviews <- gsub(\"<.+?>|\\t\",\"\", reviews) \n",
                "  \n",
                "  newr <- cbind(reviews)\n",
                "  at_reviews <- rbind(at_reviews, newr)\n",
                "}\n",
                "\n",
                "# aqua man  review crawling\n",
                "for (i in 1:240) { \n",
                "  newr <- NULL\n",
                "  url <- paste(aqua_man, i, sep='')\n",
                "  txt <- readLines(url, encoding=\"UTF-8\")\n",
                "  \n",
                "  # <ec>��<ed>�� 리뷰 부분만 가<ec>��<ec>���<b0>\n",
                "  reviews <- txt[which(str_detect(txt, \"id=\\\"_filtered_ment\"))+4] \n",
                "  # <ed>��<ec>��문자 <ec>���<b0>\n",
                "  reviews <- gsub(\"<.+?>|\\t\",\"\", reviews) \n",
                "  \n",
                "  newr <- cbind(reviews)\n",
                "  aq_reviews <- rbind(aq_reviews, newr)\n",
                "}\n",
                "\n",
                "# world war z review crawling\n",
                "for (i in 1:240) { \n",
                "  newr <- NULL\n",
                "  url <- paste(world_war_z, i, sep='')\n",
                "  txt <- readLines(url, encoding=\"UTF-8\")\n",
                "  \n",
                "  # <ec>��<ed>�� 리뷰 부분만 가<ec>��<ec>���<b0>\n",
                "  reviews <- txt[which(str_detect(txt, \"id=\\\"_filtered_ment\"))+4] \n",
                "  # <ed>��<ec>��문자 <ec>���<b0>\n",
                "  reviews <- gsub(\"<.+?>|\\t\",\"\", reviews) \n",
                "  \n",
                "  newr <- cbind(reviews)\n",
                "  ww_reviews <- rbind(ww_reviews, newr)\n",
                "}\n",
                "\n",
                "# inception review crawling\n",
                "for (i in 1:240) { \n",
                "  newr <- NULL\n",
                "  url <- paste(inception, i, sep='')\n",
                "  txt <- readLines(url, encoding=\"UTF-8\")\n",
                "  \n",
                "  # <ec>��<ed>�� 리뷰 부분만 가<ec>��<ec>���<b0>\n",
                "  reviews <- txt[which(str_detect(txt, \"id=\\\"_filtered_ment\"))+4] \n",
                "  # <ed>��<ec>��문자 <ec>���<b0>\n",
                "  reviews <- gsub(\"<.+?>|\\t\",\"\", reviews) \n",
                "  \n",
                "  newr <- cbind(reviews)\n",
                "  ic_reviews <- rbind(ic_reviews, newr)\n",
                "}\n"
            ]
        },
        {
            "cell_type": "markdown",
            "metadata": {},
            "source": [
                "# <ed>��<ec>��<ed>�� <eb>��<ec>��<ed>�� <ec>��처리\n",
                "\n"
            ]
        },
        {
            "cell_type": "code",
            "execution_count": null,
            "metadata": {},
            "outputs": [],
            "source": [
                "# <ed>��번호�<9c> id <ec>��<ec>�� 만들<ec>���<a0> 리뷰<ec>�� 빈칸<ec>�� <ec>��거했<eb>��.\n",
                "at_review_dat <- tibble(reply = at_reviews,\n",
                "                     n_char = nchar(at_reviews)) %>%\n",
                "  filter(n_char>1) %>%\n",
                "  mutate(id=row_number()) %>% \n",
                "  select(id,reply)\n",
                "\n",
                "aq_review_dat <- tibble(reply = aq_reviews,\n",
                "                     n_char = nchar(aq_reviews)) %>%\n",
                "  filter(n_char>1) %>%\n",
                "  mutate(id=row_number()) %>% \n",
                "  select(id,reply)\n",
                "\n",
                "ww_review_dat <- tibble(reply = ww_reviews,\n",
                "                     n_char = nchar(ww_reviews)) %>%\n",
                "  filter(n_char>1) %>%\n",
                "  mutate(id=row_number()) %>% \n",
                "  select(id,reply)\n",
                "\n",
                "ic_review_dat <- tibble(reply = ic_reviews,\n",
                "                     n_char = nchar(ic_reviews)) %>%\n",
                "  filter(n_char>1) %>%\n",
                "  mutate(id=row_number()) %>% \n",
                "  select(id,reply)\n"
            ]
        },
        {
            "cell_type": "markdown",
            "metadata": {},
            "source": [
                "### <ed>��<ec>��<ed>�� <eb>��<ec>��<ed>�� Tokenization \n",
                "\n",
                " \n"
            ]
        },
        {
            "cell_type": "code",
            "execution_count": null,
            "metadata": {},
            "outputs": [],
            "source": [
                "# about time tokenization\n",
                "\n",
                "at_comment <- at_review_dat %>%\n",
                "  unnest_tokens(input = reply,\n",
                "                output = word,\n",
                "                token = SimplePos09,\n",
                "                drop = FALSE)\n",
                "\n",
                "at_n<- at_comment %>% \n",
                "filter(str_detect(word, \"/n\")) %>% \n",
                "  mutate(word_done  = str_remove(word, \"/.*$\")) %>% \n",
                "  filter(nchar(word_done) > 1)%>% \n",
                "  ungroup() \n",
                "\n",
                "at_p <- at_comment %>%\n",
                "  filter(str_detect(word, \"/p\")) %>% \n",
                "  mutate(word_done =str_replace_all(word,\"/.*$\", \"<eb>��\")) %>%\n",
                "  filter(nchar(word_done) > 1) %>% \n",
                "  ungroup()\n",
                "\n",
                "at_word <- bind_rows(at_n, at_p) %>% \n",
                "  select(id, word_done) \n"
            ]
        },
        {
            "cell_type": "markdown",
            "metadata": {},
            "source": [
                "\n",
                "\n"
            ]
        },
        {
            "cell_type": "code",
            "execution_count": null,
            "metadata": {},
            "outputs": [],
            "source": [
                "# aqua man tokenization\n",
                "\n",
                "aq_comment <- aq_review_dat %>%\n",
                "  unnest_tokens(input = reply,\n",
                "                output = word,\n",
                "                token = SimplePos09,\n",
                "                drop = FALSE)\n",
                "\n",
                "aq_n<- aq_comment %>% \n",
                "filter(str_detect(word, \"/n\")) %>%\n",
                "  mutate(word_done  = str_remove(word, \"/.*$\")) %>% \n",
                "  filter(nchar(word_done) > 1)%>% \n",
                "  ungroup() \n",
                "\n",
                "aq_p <- aq_comment %>%\n",
                "  filter(str_detect(word, \"/p\")) %>% \n",
                "  mutate(word_done =str_replace_all(word,\"/.*$\", \"<eb>��\")) %>%\n",
                "  filter(nchar(word_done) > 1) %>% \n",
                "  ungroup()\n",
                "\n",
                "aq_word <- bind_rows(aq_n, aq_p) %>% \n",
                "  select(id, word_done) \n"
            ]
        },
        {
            "cell_type": "markdown",
            "metadata": {},
            "source": [
                "\n",
                "\n"
            ]
        },
        {
            "cell_type": "code",
            "execution_count": null,
            "metadata": {},
            "outputs": [],
            "source": [
                "# world war z tokenization\n",
                "\n",
                "ww_comment <- ww_review_dat %>%\n",
                "  unnest_tokens(input = reply,\n",
                "                output = word,\n",
                "                token = SimplePos09,\n",
                "                drop = FALSE)\n",
                "\n",
                "ww_n<- ww_comment %>% \n",
                "filter(str_detect(word, \"/n\")) %>% \n",
                "  mutate(word_done  = str_remove(word, \"/.*$\")) %>% \n",
                "  filter(nchar(word_done) > 1)%>% \n",
                "  ungroup() \n",
                "\n",
                "ww_p <- ww_comment %>%\n",
                "  filter(str_detect(word, \"/p\")) %>% \n",
                "  mutate(word_done =str_replace_all(word,\"/.*$\", \"<eb>��\")) %>%\n",
                "  filter(nchar(word_done) > 1) %>% \n",
                "  ungroup()\n",
                "\n",
                "ww_word <- bind_rows(ww_n, ww_p) %>% \n",
                "  select(id, word_done) \n"
            ]
        },
        {
            "cell_type": "markdown",
            "metadata": {},
            "source": [
                "\n",
                "\n"
            ]
        },
        {
            "cell_type": "code",
            "execution_count": null,
            "metadata": {},
            "outputs": [],
            "source": [
                "# inception tokenization\n",
                "\n",
                "ic_comment <- ic_review_dat %>%\n",
                "  unnest_tokens(input = reply,\n",
                "                output = word,\n",
                "                token = SimplePos09,\n",
                "                drop = FALSE)\n",
                "\n",
                "ic_n<- ic_comment %>% \n",
                "filter(str_detect(word, \"/n\")) %>% \n",
                "  mutate(word_done  = str_remove(word, \"/.*$\")) %>% \n",
                "  filter(nchar(word_done) > 1)%>% \n",
                "  ungroup() \n",
                "\n",
                "ic_p <- ic_comment %>%\n",
                "  filter(str_detect(word, \"/p\")) %>% \n",
                "  mutate(word_done =str_replace_all(word,\"/.*$\", \"<eb>��\")) %>%\n",
                "  filter(nchar(word_done) > 1) %>% \n",
                "  ungroup()\n",
                "\n",
                "ic_word <- bind_rows(ic_n, ic_p) %>% \n",
                "  select(id, word_done) \n"
            ]
        },
        {
            "cell_type": "markdown",
            "metadata": {},
            "source": [
                "### Wordcloud�<bc> <ed>��<ed>�� 많이 <ec>��<ec>��<eb>�� <eb>��<ec>�� <ec>��각화\n",
                "\n",
                "많이 <ec>��<ec>��<eb>�� <eb>��<ec>���<bc> <ec>��각화<ed>��<eb>�� 것이므�<9c> 각각<ec>�� <ec>��<ed>��<ec>��<ec>�� 많이<ec>��<ec>�� <eb>��<ec>�� 100개�<a5><bc> 추출<ed>��<ec>�� wordcloud�<9c> <ec>��각화<ed>��겠다.\n"
            ]
        },
        {
            "cell_type": "code",
            "execution_count": null,
            "metadata": {},
            "outputs": [],
            "source": [
                "# about time wordcloud\n",
                "\n",
                "at_count <- at_word %>% \n",
                "  count(word_done,sort=T)\n",
                "\n",
                "\n",
                "wordcloud2(top_n(at_count,100),\n",
                "           color = \"random-light\", \n",
                "           backgroundColor = \"grey\",\n",
                "           fontFamily = '<eb>��<eb>��바른고딕',\n",
                "           minSize = 2)\n"
            ]
        },
        {
            "cell_type": "markdown",
            "metadata": {},
            "source": "\n"
        },
        {
            "cell_type": "code",
            "execution_count": null,
            "metadata": {},
            "outputs": [],
            "source": [
                "# aqua man wordcloud\n",
                "\n",
                "aq_count <- aq_word %>% \n",
                "  count(word_done,sort=T) \n",
                "\n",
                "wordcloud2(top_n(aq_count,100),\n",
                "           color = \"random-light\", \n",
                "           backgroundColor = \"grey\",\n",
                "           fontFamily = '<eb>��<eb>��바른고딕',\n",
                "           minSize = 2)\n"
            ]
        },
        {
            "cell_type": "markdown",
            "metadata": {},
            "source": "\n"
        },
        {
            "cell_type": "code",
            "execution_count": null,
            "metadata": {},
            "outputs": [],
            "source": [
                "# world war z wordcloud\n",
                "\n",
                "ww_count <- ww_word %>% \n",
                "  count(word_done,sort=T)\n",
                "\n",
                "wordcloud2(top_n(ww_count,100),\n",
                "           color = \"random-light\", \n",
                "           backgroundColor = \"grey\",\n",
                "           fontFamily = '<eb>��<eb>��바른고딕',\n",
                "           minSize = 2)\n"
            ]
        },
        {
            "cell_type": "markdown",
            "metadata": {},
            "source": "\n"
        },
        {
            "cell_type": "code",
            "execution_count": null,
            "metadata": {},
            "outputs": [],
            "source": [
                "# inception wordcloud\n",
                "\n",
                "ic_count <- ic_word %>% \n",
                "  count(word_done,sort=T) \n",
                "\n",
                "wordcloud2(top_n(ic_count,100),\n",
                "           color = \"random-light\", \n",
                "           backgroundColor = \"grey\",\n",
                "           fontFamily = '<eb>��<eb>��바른고딕',\n",
                "           minSize = 2)\n"
            ]
        },
        {
            "cell_type": "markdown",
            "metadata": {},
            "source": [
                "### <ec>��규표<ed>��<ec>��<ec>�� <ed>��<ec>��<ed>�� <ed>��<ec>��<ed>�� <eb>��<ec>��<ed>�� <ec>��<ec>�� �<8f> 변<ed>�� (<ec>���<bc> <eb>��<ec>��<ed>��<eb>�� <eb>��<ec>�� <ec>��주로) \n",
                "\n"
            ]
        },
        {
            "cell_type": "code",
            "execution_count": null,
            "metadata": {},
            "outputs": [],
            "source": [
                "cs <- tibble(word=c(\"보다\", \"<ec>��<ed>��\",\"<ed>��<eb>��\",\"<ec>��<eb>��\",\"<ed>��<eb>��\",\"<eb>��<eb>��\",\"<ec>��<eb>��\",\"<ec>��<eb>��\",\"몇번\",\"�<87> �<88>\"))\n",
                "\n",
                "at_word2 <- at_word %>% \n",
                "  anti_join(cs, by=c(\"word_done\"=\"word\")) %>% \n",
                "  mutate(word_done=ifelse(str_detect(word_done,\"[가-<ed>��]+<ec>���<9c>\"),\n",
                "                          str_sub(at_word$word_done,1,nchar(at_word$word_done)-2),\n",
                "                          word_done))  %>% \n",
                "  mutate(word_done=ifelse(str_detect(word_done,\"[가-<ed>��]+<ec>��<ec>��\"),\n",
                "                          str_sub(at_word$word_done,1,nchar(at_word$word_done)-2),\n",
                "                          word_done))  %>% \n",
                "  mutate(word_done=ifelse(str_detect(word_done,\"[가-<ed>��]+것도\"),\n",
                "                          str_sub(at_word$word_done,1,nchar(at_word$word_done)-2),\n",
                "                          word_done)) %>% \n",
                "  mutate(word_done=ifelse(str_detect(word_done,\"[가-<ed>��]+<ec><9d>�\"),\n",
                "                          str_sub(at_word$word_done,1,nchar(at_word$word_done)-1),\n",
                "                          word_done))  %>% \n",
                "  mutate(word_done=ifelse(str_detect(word_done,\"[가-<ed>��]+<eb>��\"),\n",
                "                          str_sub(at_word$word_done,1,nchar(at_word$word_done)-1),\n",
                "                          word_done)) %>% \n",
                "  mutate(word_done=ifelse(str_detect(word_done,\"[가-<ed>��]+<eb>��\"),\n",
                "                          str_sub(at_word$word_done,1,nchar(at_word$word_done)-1),\n",
                "                          word_done)) %>% \n",
                "  mutate(word_done=ifelse(str_detect(word_done,\"[가-<ed>��]+<eb>��\"),\n",
                "                          str_sub(at_word$word_done,1,nchar(at_word$word_done)-1),\n",
                "                          word_done)) %>% \n",
                "  mutate(word_done=ifelse(str_detect(word_done,\"[가-<ed>��]+<ec>��\"),\n",
                "                          str_sub(at_word$word_done,1,nchar(at_word$word_done)-1),\n",
                "                          word_done))  %>% \n",
                "  mutate(word_done=ifelse(str_detect(word_done,\"[가-<ed>��]+가\"),\n",
                "                          str_sub(at_word$word_done,1,nchar(at_word$word_done)-1),\n",
                "                          word_done)) %>% \n",
                "  mutate(word_done=gsub(\"\\\\^<e3>��\",\"\", word_done)) %>% \n",
                "  mutate(word_done=gsub(\"\\\\^<e3>��\",\"\", word_done)) %>%\n",
                "  filter(nchar(word_done)>1)\n"
            ]
        },
        {
            "cell_type": "markdown",
            "metadata": {},
            "source": "\n"
        },
        {
            "cell_type": "code",
            "execution_count": null,
            "metadata": {},
            "outputs": [],
            "source": [
                "aq_word2 <- aq_word %>% \n",
                "  anti_join(cs, by=c(\"word_done\"=\"word\")) %>% \n",
                "  mutate(word_done=ifelse(str_detect(word_done,\"[가-<ed>��]+<ec>���<9c>\"),\n",
                "                          str_sub(aq_word$word_done,1,nchar(aq_word$word_done)-2),\n",
                "                          word_done))  %>% \n",
                "  mutate(word_done=ifelse(str_detect(word_done,\"[가-<ed>��]+<ec>��<ec>��\"),\n",
                "                          str_sub(aq_word$word_done,1,nchar(aq_word$word_done)-2),\n",
                "                          word_done))  %>% \n",
                "  mutate(word_done=ifelse(str_detect(word_done,\"[가-<ed>��]+것도\"),\n",
                "                          str_sub(aq_word$word_done,1,nchar(aq_word$word_done)-2),\n",
                "                          word_done)) %>% \n",
                "  mutate(word_done=ifelse(str_detect(word_done,\"[가-<ed>��]+<ec><9d>�\"),\n",
                "                          str_sub(aq_word$word_done,1,nchar(aq_word$word_done)-1),\n",
                "                          word_done))  %>% \n",
                "  mutate(word_done=ifelse(str_detect(word_done,\"[가-<ed>��]+<eb>��\"),\n",
                "                          str_sub(aq_word$word_done,1,nchar(aq_word$word_done)-1),\n",
                "                          word_done)) %>% \n",
                "  mutate(word_done=ifelse(str_detect(word_done,\"[가-<ed>��]+<eb>��\"),\n",
                "                          str_sub(aq_word$word_done,1,nchar(aq_word$word_done)-1),\n",
                "                          word_done)) %>% \n",
                "  mutate(word_done=ifelse(str_detect(word_done,\"[가-<ed>��]+<eb>��\"),\n",
                "                          str_sub(aq_word$word_done,1,nchar(aq_word$word_done)-1),\n",
                "                          word_done)) %>% \n",
                "  mutate(word_done=ifelse(str_detect(word_done,\"[가-<ed>��]+<ec>��\"),\n",
                "                          str_sub(aq_word$word_done,1,nchar(aq_word$word_done)-1),\n",
                "                          word_done))  %>% \n",
                "  mutate(word_done=ifelse(str_detect(word_done,\"[가-<ed>��]+가\"),\n",
                "                          str_sub(aq_word$word_done,1,nchar(aq_word$word_done)-1),\n",
                "                          word_done)) %>% \n",
                "  mutate(word_done=gsub(\"\\\\^<e3>��\",\"\", word_done)) %>% \n",
                "  mutate(word_done=gsub(\"\\\\^<e3>��\",\"\", word_done)) %>%\n",
                "  filter(nchar(word_done)>1)\n"
            ]
        },
        {
            "cell_type": "markdown",
            "metadata": {},
            "source": "\n"
        },
        {
            "cell_type": "code",
            "execution_count": null,
            "metadata": {},
            "outputs": [],
            "source": [
                "ww_word2 <- ww_word %>% \n",
                "  anti_join(cs, by=c(\"word_done\"=\"word\")) %>% \n",
                "  mutate(word_done=ifelse(str_detect(word_done,\"[가-<ed>��]+<ec>���<9c>\"),\n",
                "                          str_sub(ww_word$word_done,1,nchar(ww_word$word_done)-2),\n",
                "                          word_done))  %>% \n",
                "  mutate(word_done=ifelse(str_detect(word_done,\"[가-<ed>��]+<ec>��<ec>��\"),\n",
                "                          str_sub(ww_word$word_done,1,nchar(ww_word$word_done)-2),\n",
                "                          word_done))  %>% \n",
                "  mutate(word_done=ifelse(str_detect(word_done,\"[가-<ed>��]+것도\"),\n",
                "                          str_sub(ww_word$word_done,1,nchar(ww_word$word_done)-2),\n",
                "                          word_done)) %>% \n",
                "  mutate(word_done=ifelse(str_detect(word_done,\"[가-<ed>��]+<ec><9d>�\"),\n",
                "                          str_sub(ww_word$word_done,1,nchar(ww_word$word_done)-1),\n",
                "                          word_done))  %>% \n",
                "  mutate(word_done=ifelse(str_detect(word_done,\"[가-<ed>��]+<eb>��\"),\n",
                "                          str_sub(ww_word$word_done,1,nchar(ww_word$word_done)-1),\n",
                "                          word_done)) %>% \n",
                "  mutate(word_done=ifelse(str_detect(word_done,\"[가-<ed>��]+<eb>��\"),\n",
                "                          str_sub(ww_word$word_done,1,nchar(ww_word$word_done)-1),\n",
                "                          word_done)) %>% \n",
                "  mutate(word_done=ifelse(str_detect(word_done,\"[가-<ed>��]+<eb>��\"),\n",
                "                          str_sub(ww_word$word_done,1,nchar(ww_word$word_done)-1),\n",
                "                          word_done)) %>% \n",
                "  mutate(word_done=ifelse(str_detect(word_done,\"[가-<ed>��]+<ec>��\"),\n",
                "                          str_sub(ww_word$word_done,1,nchar(ww_word$word_done)-1),\n",
                "                          word_done))  %>% \n",
                "  mutate(word_done=ifelse(str_detect(word_done,\"[가-<ed>��]+가\"),\n",
                "                          str_sub(ww_word$word_done,1,nchar(ww_word$word_done)-1),\n",
                "                          word_done)) %>% \n",
                "  mutate(word_done=gsub(\"\\\\^<e3>��\",\"\", word_done)) %>% \n",
                "  mutate(word_done=gsub(\"\\\\^<e3>��\",\"\", word_done)) %>%\n",
                "  filter(nchar(word_done)>1)\n"
            ]
        },
        {
            "cell_type": "markdown",
            "metadata": {},
            "source": "\n"
        },
        {
            "cell_type": "code",
            "execution_count": null,
            "metadata": {},
            "outputs": [],
            "source": [
                "ic_word2 <- ic_word %>% \n",
                "  anti_join(cs, by=c(\"word_done\"=\"word\")) %>% \n",
                "  mutate(word_done=ifelse(str_detect(word_done,\"[가-<ed>��]+<ec>���<9c>\"),\n",
                "                          str_sub(ic_word$word_done,1,nchar(ic_word$word_done)-2),\n",
                "                          word_done))  %>% \n",
                "  mutate(word_done=ifelse(str_detect(word_done,\"[가-<ed>��]+<ec>��<ec>��\"),\n",
                "                          str_sub(ic_word$word_done,1,nchar(ic_word$word_done)-2),\n",
                "                          word_done))  %>% \n",
                "  mutate(word_done=ifelse(str_detect(word_done,\"[가-<ed>��]+것도\"),\n",
                "                          str_sub(ic_word$word_done,1,nchar(ic_word$word_done)-2),\n",
                "                          word_done)) %>% \n",
                "  mutate(word_done=ifelse(str_detect(word_done,\"[가-<ed>��]+<ec><9d>�\"),\n",
                "                          str_sub(ic_word$word_done,1,nchar(ic_word$word_done)-1),\n",
                "                          word_done))  %>% \n",
                "  mutate(word_done=ifelse(str_detect(word_done,\"[가-<ed>��]+<eb>��\"),\n",
                "                          str_sub(ic_word$word_done,1,nchar(ic_word$word_done)-1),\n",
                "                          word_done)) %>% \n",
                "  mutate(word_done=ifelse(str_detect(word_done,\"[가-<ed>��]+<eb>��\"),\n",
                "                          str_sub(ic_word$word_done,1,nchar(ic_word$word_done)-1),\n",
                "                          word_done)) %>% \n",
                "  mutate(word_done=ifelse(str_detect(word_done,\"[가-<ed>��]+<eb>��\"),\n",
                "                          str_sub(ic_word$word_done,1,nchar(ic_word$word_done)-1),\n",
                "                          word_done)) %>% \n",
                "  mutate(word_done=ifelse(str_detect(word_done,\"[가-<ed>��]+<ec>��\"),\n",
                "                          str_sub(ic_word$word_done,1,nchar(ic_word$word_done)-1),\n",
                "                          word_done))  %>% \n",
                "  mutate(word_done=ifelse(str_detect(word_done,\"[가-<ed>��]+가\"),\n",
                "                          str_sub(ic_word$word_done,1,nchar(ic_word$word_done)-1),\n",
                "                          word_done)) %>% \n",
                "  mutate(word_done=gsub(\"\\\\^<e3>��\",\"\", word_done)) %>% \n",
                "  mutate(word_done=gsub(\"\\\\^<e3>��\",\"\", word_done)) %>%\n",
                "  filter(nchar(word_done)>1)\n"
            ]
        },
        {
            "cell_type": "markdown",
            "metadata": {},
            "source": [
                "### Word Frequency <ec>��각화 �<8f> <ed>��<ec>�� \n",
                "\n",
                "<ec>��<ed>��별로 <ec>��<ec>�� 20�<9c> <eb>��<ec>���<bc> 추출<ed>��<ec>�� <ec>��각화<ed>��겠다.\n"
            ]
        },
        {
            "cell_type": "code",
            "execution_count": null,
            "metadata": {},
            "outputs": [],
            "source": [
                "at_count2 <- at_word2 %>% \n",
                "  count(word_done,sort=T) %>%\n",
                "  top_n(20) \n",
                "\n",
                "at_count_plot <- ggplot(at_count2,aes(n, fct_reorder(word_done, n))) +\n",
                "  geom_col(fill = \"#669933\")+\n",
                "  labs(y=\"word\",x=\"frequancy\",title=\"at_count_plot\")+\n",
                "  theme(plot.title = element_text(hjust = 0.5))\n",
                "  \n",
                "  \n",
                "\n",
                "aq_count2 <- aq_word2 %>% \n",
                "  count(word_done,sort=T) %>%\n",
                "  top_n(20) \n",
                "\n",
                "aq_count_plot <- ggplot(aq_count2,aes(n, fct_reorder(word_done, n))) +\n",
                "  geom_col(fill = \"#00CCFF\")+\n",
                "  labs(y=\"word\",x=\"frequancy\",title=\"aq_count_plot\")+\n",
                "  theme(plot.title = element_text(hjust = 0.5))\n",
                "\n",
                "ww_count2 <- ww_word2 %>% \n",
                "  count(word_done,sort=T) %>%\n",
                "  top_n(20) \n",
                "\n",
                "ww_count_plot <- ggplot(ww_count2,aes(n, fct_reorder(word_done, n))) +\n",
                "  geom_col(fill = \"#CC0000\")+\n",
                "  labs(y=\"word\",x=\"frequancy\",title=\"ww_count_plot\")+\n",
                "  theme(plot.title = element_text(hjust = 0.5))\n",
                "\n",
                "ic_count2 <- ic_word2 %>% \n",
                "  count(word_done,sort=T) %>%\n",
                "  top_n(20) \n",
                "\n",
                "ic_count_plot <- ggplot(ic_count2,aes(n, fct_reorder(word_done, n))) +\n",
                "  geom_col(fill = \"#CC99CC\")+\n",
                "  labs(y=\"word\",x=\"frequancy\",title = \"ic_count_plot\")+\n",
                "  theme(plot.title = element_text(hjust = 0.5))\n"
            ]
        },
        {
            "cell_type": "markdown",
            "metadata": {},
            "source": [
                "<ec>��각화 결과\n",
                "\n"
            ]
        },
        {
            "cell_type": "code",
            "execution_count": null,
            "metadata": {},
            "outputs": [],
            "source": [
                "grid.arrange(at_count_plot, aq_count_plot, ww_count_plot, ic_count_plot, ncol=2)\n",
                "\n"
            ]
        },
        {
            "cell_type": "markdown",
            "metadata": {},
            "source": [
                "<ec>��<ed>�� �<84> <ec>��<ec>�� 빈도<ec>��<ec>�� <eb>���<b8> <ed>��<ec>��\n",
                "\n",
                "<ec>��바웃 <ed><83>�<ec>��: <ec>��<ec>��, 감동, 로맨<ec>��, <ec>��<eb>��, <ec>��버�<a7>� <eb>��<ec>�� <eb>��<ec>��가 많이 <ec>��<ec>��<eb>��<ec>���<a0> 많�<9d>� 감동<ec>�� 주는 로맨<ec>�� <ec>��<ed>��<ec>�� �<83> 같다. <ec>��<ec>��<ec>��<ed>��<eb>��<eb>�� <eb>��<ec>��가 많이 <eb>��<ec>��<ec>���<b0> <eb>��<eb>�� <ed>��루하�<a8> 마�<a7>��<89> <eb>��처럼 <ec>��간을 <ec>��<eb>�� <eb>��<ec>��<ec>�� <ec>��<ed>��<ec>�� 것으�<9c> <ed>��<ec>��<ed>�� <ec>�� <ec>��<ec>��<eb>��. 본인<ec>�� <ec>��<ec>��<ec>��<ed>��<ec>��기도 <ed>��기에 첫번�<b8> <ec>��<ed>���<9c> 뽑아보았<eb>��!\n",
                "\n",
                "<ec>��쿠아�<a8>: <ec>��<ed>���<ac>, <ec>��미있<eb>��, <ec>��<ec>��, 마블, 뻔하<eb>��, <ec>��<ec>���<b8>, dc <eb>��<ec>�� <eb>��<ec>��가 많이 <ec>��<ec>��<eb>��<ec>���<a0> <ec>��<ec>�� 빈도<ec>���<bc> 분석<ed>��<ec>�� <eb>��<eb>�� <ec>��쿠아맨이 <ec>��<ed>��리는 뻔하지�<8c> <ec>��<ec>���<b8> 좋고 <ec>��미있<eb>�� dc <ed>��<ec><9d>� 마블<ec>�� <ec>��<ed>��<ec>�� 것으�<9c> <ed>��<ec>��<ed>�� <ec>�� <ec>��<ec>��<eb>��.\n",
                "\n",
                "<ec>��<eb>��<ec>�� Z: 좀�<84>, 좀비물, <ec>��미있<eb>��, <ec>��케<ec>��, <ed>��<eb>��, <ec>��<ec>��<eb>�� <eb>��<ec>�� <eb>��<ec>��가 많이 <ec>��<ec>��<eb>��<ec>���<a0> <ec>��<ec>�� 빈도<ec>���<bc> 분석<ed>��<ec>�� <eb>��<eb>�� <ec>��<eb>��<ec>�� Z가 브래<eb>��<ed>��<ed>��가 주인공인 <ec>��케<ec>�� <ed>���<a0> 긴장�<90> <eb>��치는 좀비영<ed>��<ec>�� 것으�<9c> <ed>��<ec>��<ed>�� <ec>�� <ec>��<ec>���<a0> <ec>��<ec>��<eb>��<eb>��<eb>�� <eb>��<ec>��<eb>�� 많이 <ec>��<ec>��<eb>�� 것으�<9c> 보아 <ec>��미있<eb>�� <ec>��<eb>��<eb>�� 많았지�<8c> <ec>��<ec>��<ec>��<eb>��<eb>�� <ec>��<eb>��<eb>�� <ec>��부 <ec>��<ec>��<ec>��<ec>�� <ec>�� <ec>�� <ec>��<ec>��<eb>��.\n",
                "\n",
                "<ec>��<ec>��<ec>��: 최고, <eb><86>�<eb>��<eb>��, 명작, <ec>��<ed>���<ac>, <ec>��<ec>��<ec>��<ed>�� <eb>��<ec>�� <eb>��<ec>��가 많이 <ec>��<ec>��<eb>��<ec>���<a0> <ec>��<ec>�� 빈도<ec>���<bc> 분석<ed>��<ec>�� <eb>��<eb>�� <ec>��<ec>��<ec>��<ec>�� <eb>��<ec>��<ec>�� <ec>�� <ec>�� <ec>��<eb>�� <eb>��<ec>��가 많이 <ec>��<ec>�� <ec>��<ed>��<ed>�� <eb>��<ec>��<ec><9d>� <ec>�� <ec>�� <ec>��지�<8c> <ec>��<ec>��<ec>��<ec>��<eb>��<eb>�� <ec>��<ed>��가 많�<9d>� <ec>��<eb>��<eb>��<ec>�� <eb><86>�<eb>��게하�<a0> <ec>��<ed>��리�<b0>� 매우 <ed>��<ed>��<ed>�� 명작<ec>��<ec>�� <ec>��추할 <ec>�� <ec>��<ec>��<eb>��.\n",
                "\n",
                "\n",
                "# tf-idf score <ec>��각화 \n"
            ]
        },
        {
            "cell_type": "code",
            "execution_count": null,
            "metadata": {},
            "outputs": [],
            "source": [
                "# �<81> <ec>��<ed>��<ec>�� <eb>��<ec>��모음<ec>�� <ed>�� tibble<ec>���<9c> 만들<ec>��준<eb>��.\n",
                "\n",
                "at_word3 <- at_word %>% \n",
                "  mutate(title = \"about time\")\n",
                "\n",
                "aq_word3 <- aq_word %>% \n",
                "  mutate(title = \"aqua man\")\n",
                "\n",
                "ww_word3 <- ww_word %>% \n",
                "  mutate(title = \"word war z\")\n",
                "\n",
                "ic_word3 <- ic_word %>% \n",
                "  mutate(title = \"inception\")\n",
                "\n",
                "total_word <- bind_rows(at_word3, aq_word3, ww_word3, ic_word3)\n"
            ]
        },
        {
            "cell_type": "markdown",
            "metadata": {},
            "source": "\n"
        },
        {
            "cell_type": "code",
            "execution_count": null,
            "metadata": {},
            "outputs": [],
            "source": [
                "# tf_idf <ec><a0>�<ec>��\n",
                "\n",
                "tf_idf <- total_word %>% \n",
                "  group_by(title) %>% \n",
                "  count(word_done) %>% \n",
                "  bind_tf_idf(term = word_done, document = title, n = n) %>% \n",
                "  select(title,word_done,tf_idf)\n"
            ]
        },
        {
            "cell_type": "markdown",
            "metadata": {},
            "source": "\n"
        },
        {
            "cell_type": "code",
            "execution_count": null,
            "metadata": {},
            "outputs": [],
            "source": [
                "# <ec>��<ed>�� �<84> <ec>��<ec>�� 15�<9c> tf_idf <ec>��각화\n",
                "\n",
                "tf_idf %>% \n",
                "  group_by(title) %>% \n",
                "  top_n(15) %>% \n",
                "  ggplot(aes(tf_idf, fct_reorder(word_done,tf_idf),fill = title))+\n",
                "  geom_col()+\n",
                "  facet_wrap(~title,scale=\"free\")+\n",
                "  labs(y=\"word_done\",title = \"tf_idf score \\n by title\")+\n",
                "  theme(plot.title = element_text(hjust = 0.5))\n"
            ]
        },
        {
            "cell_type": "markdown",
            "metadata": {},
            "source": [
                "tf_idf score<eb>�� <eb>���<b8> 문서<ec>��<eb>�� 많�<a7>� <ec>���<a0> <ed>��<eb>�� 문서<ec>��<ec>�� <ec>���<bc> <eb>��<ec>��<ed>��<eb>�� <eb>��<ec>��<ec>��<ec>���<9d> <eb>��<ec><9d>� <ec>��<ec>���<bc> 받는<eb>��. �<89> 문서 <eb>��<ec>��<ec>�� 중요<ed>�� <ed>��<ec>��<eb>��<eb>���<a0> <ed>�� <ec>�� <ec>��<eb>�� 것이<eb>��. \n",
                "\n",
                "<ec>��바웃<ed><83>�<ec>��: <ec>��바웃<ed><83>�<ec>��<ec>�� 리뷰 <eb>��<ec>��<ec>�� 중요<ed>�� <ed>��<ec>��<eb>��<eb>�� <ed>��루하�<a8>, 로맨<ec>��, <ec>��중한, <ec>��간여<ed>��, <eb>��<eb>��<ed>��지<eb>��, <ec>��<ec>��, <ed>��복한 <eb>��<ec>�� <ec>��<eb>��. 중요<ed>�� <ed>��<ec>��<eb>���<bc> 보고 <eb>���<b8> <ec>��<ed>��<eb>��과는 차별<eb>���<8c>  <ed>��루하�<a8> <ec>��중한 <ec>��<ec>��<ec>�� 마음 <eb>��<eb>��<ed>�� <ec>��<ed>��<ec>���<a0> <ec>��간여<ed>��<ec>�� <ed>��<eb>�� 로맨<ec>�� <ec>��<ed>��<ec>��<ec>�� <ec>��추할 <ec>�� <ec>��<eb>��.\n",
                "\n",
                "<ec>��쿠아�<a8>: <ec>��쿠아맨의 리뷰 <eb>��<ec>��<ec>�� 중요<ed>�� <ed>��<ec>��<eb>��<eb>�� dc, <ec>��<ec>��<ec>��<ec>��, 바닷<ec>��, <ec>��<ed><8b>�<eb><9e>�<ed>��<ec>��, <ec>��쿠아�<a8>, <ed>��<ec>��로물 <eb>��<ec>�� <ec>��<eb>��. 중요<ed>�� <ed>��<ec>��<eb>���<bc> 보고 <eb>���<b8> <ec>��<ed>��<ec><99>�<eb>�� 차별<eb>���<8c> <ec>��름에<ec>�� <ec>�� <ec>�� <ec>��<eb>��<ec>�� <ec>��쿠아맨이<eb>��<eb>�� <ed>��<ec>��로�<b0>� 바닷<ec>��(<ec>��<ed><8b>�<eb><9e>�<ed>��<ec>��)<ec>��<ec>�� <ed>��<ec>��<ed>��<eb>�� 모습<ec>�� 보여주는 dc<ec>�� <ec>��<ed>��<ec>���<a0> 감독<ec><9d>� <ec>��<ec>��<ec>��<ec>��<ec>��<ec>�� <ec>��추해�<bc> <ec>�� <ec>��<eb>��.\n",
                "\n",
                "<ec>��<ec>��<ec>��: <ec>��<ec>��<ec>��<ec>�� 리뷰 <eb>��<ec>��<ec>�� 중요<ed>�� <ed>��<ec>��<eb>��<eb>�� 꿈속, <eb><86>�<eb>��<eb>��, <eb><86>�<eb><9e>�감독, 무의<ec>��, <eb>��카프리오, <ec>��<ec>��<eb>��, <ed>��<ec>��, 천재 <eb>��<ec>�� <ec>��<eb>��. 중요<ed>�� <ed>��<ec>��<eb>���<bc> 보고 <eb>���<b8> <ec>��<ed>��<ec><99>�<eb>�� 차별<eb>���<8c> 꿈속, �<89> 무의<ec>��<ec>��<ed>��<ec>��<ec>�� <ec>��<ed>���<bc> <ec>��개해<eb>��가�<a0> <eb>��카프리오 배우가 출연<ed>���<a0> <eb><86>�<eb><9e>� 감독<ec>�� <ec>��<ed>��<ec>��<ec>�� <ec>�� <ec>�� <ec>���<a0> <ec>��<ec>��<eb>��<ec>�� <ec>��극하<eb>�� <ec>��르의 <ec>��<ed>��<ec>��<ec>�� <ec>��추할 <ec>�� <ec>��<eb>��.\n",
                "\n",
                "<ec>��<eb>��<ec>�� Z: <ec>��<eb>��<ec>�� Z<ec>�� 리뷰 <eb>��<ec>��<ec>�� 중요<ed>�� <ed>��<ec>��<eb>��<eb>�� 좀�<84>,좀비물, 브래<eb>��<ed>��<ed>��, <ec>��<ec>��<eb>��<ec>��, <ec>���<b4> <eb>��<ec>�� <ec>��<eb>��. 중요<ed>�� <ed>��<ec>��<eb>���<bc> 보고 <eb>���<b8> <ec>��<ed>��<ec><99>�<eb>�� 차별<eb>���<8c> <ec>��릴있<eb>�� 좀비물<ec>��<ec>�� <ec>�� <ec>�� <ec>���<a0> <ec>��<ec>��<eb>��<ec>��<ec>�� <ec>��<ed>�� <eb>��<ec>��<ec>�� <ec>��<ec>�� 것이�<a0> 브래<eb>��<ed>��<ed>��가 출연<ed>��<ec>��<ec>�� <ec>��추할 <ec>�� <ec>��<eb>��.\n"
            ]
        }
    ],
    "metadata": {
        "anaconda-cloud": "",
        "kernelspec": {
            "display_name": "R",
            "langauge": "R",
            "name": "ir"
        },
        "language_info": {
            "codemirror_mode": "r",
            "file_extension": ".r",
            "mimetype": "text/x-r-source",
            "name": "R",
            "pygments_lexer": "r",
            "version": "3.4.1"
        }
    },
    "nbformat": 4,
    "nbformat_minor": 1
}
